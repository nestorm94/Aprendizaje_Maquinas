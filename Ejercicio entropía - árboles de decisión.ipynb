{
  "nbformat": 4,
  "nbformat_minor": 0,
  "metadata": {
    "colab": {
      "provenance": []
    },
    "kernelspec": {
      "name": "python3",
      "display_name": "Python 3"
    },
    "language_info": {
      "name": "python"
    }
  },
  "cells": [
    {
      "cell_type": "code",
      "execution_count": 53,
      "metadata": {
        "id": "Uk8fopN0WFXx"
      },
      "outputs": [],
      "source": [
        "import math"
      ]
    },
    {
      "cell_type": "markdown",
      "source": [
        "Ejempolo 1"
      ],
      "metadata": {
        "id": "fiRErfVKZM3T"
      }
    },
    {
      "cell_type": "code",
      "source": [
        "c1 = (4/6)\n",
        "c2 = (2/6)"
      ],
      "metadata": {
        "id": "nJnPz4ARXoRx"
      },
      "execution_count": 54,
      "outputs": []
    },
    {
      "cell_type": "code",
      "source": [
        "result = -((c1*math.log2(c1))+(c2*math.log2(c2)))"
      ],
      "metadata": {
        "id": "095zgjscXvDm"
      },
      "execution_count": 55,
      "outputs": []
    },
    {
      "cell_type": "code",
      "source": [
        "result"
      ],
      "metadata": {
        "colab": {
          "base_uri": "https://localhost:8080/"
        },
        "id": "AVKf_JhUYKFb",
        "outputId": "3326bbf5-65e8-43e3-cb82-db660b4e719d"
      },
      "execution_count": 56,
      "outputs": [
        {
          "output_type": "execute_result",
          "data": {
            "text/plain": [
              "0.9182958340544896"
            ]
          },
          "metadata": {},
          "execution_count": 56
        }
      ]
    },
    {
      "cell_type": "code",
      "source": [
        "## sistma 1\n",
        "c_1 =(1)\n",
        "\n",
        "## sistema 2\n",
        "\n",
        "c_2 = 1/4\n",
        "c_3 = 3/4\n",
        "\n",
        "## sistema 3\n",
        "c_4 = 2/4\n",
        "c_5 = 2/4\n",
        "\n",
        "## sistema 4\n",
        "\n",
        "c_6 = 3/4\n",
        "c_7 = 1/4\n",
        "\n",
        "## sitema 5\n",
        "\n",
        "c_8 = 1"
      ],
      "metadata": {
        "id": "IJmWBzQbZOhB"
      },
      "execution_count": 57,
      "outputs": []
    },
    {
      "cell_type": "code",
      "source": [
        "entro_s1 = -((c_1*math.log2(c_1)))\n",
        "print(entro_s1)\n",
        "entro_s1 = -((c_2*math.log2(c_2))+(c_3*math.log2(c_3)))\n",
        "print(entro_s1)\n",
        "entro_s1 = -((c_4*math.log2(c_4))+(c_5*math.log2(c_5)))\n",
        "print(entro_s1)\n",
        "entro_s1 = -((c_6*math.log2(c_6))+(c_7*math.log2(c_7)))\n",
        "print(entro_s1)\n",
        "entro_s1 = -((c_8*math.log2(c_8)))\n",
        "print(entro_s1)"
      ],
      "metadata": {
        "colab": {
          "base_uri": "https://localhost:8080/"
        },
        "id": "DNO3Su2uZkHZ",
        "outputId": "b01f418b-1a85-4c24-b57e-206d5c7036db"
      },
      "execution_count": 58,
      "outputs": [
        {
          "output_type": "stream",
          "name": "stdout",
          "text": [
            "-0.0\n",
            "0.8112781244591328\n",
            "1.0\n",
            "0.8112781244591328\n",
            "-0.0\n"
          ]
        }
      ]
    },
    {
      "cell_type": "code",
      "source": [
        "Entropia_Total = (1/6*0)+(5/6*0.72)\n",
        "Entropia_Total"
      ],
      "metadata": {
        "colab": {
          "base_uri": "https://localhost:8080/"
        },
        "id": "o6lUO-8Fc22g",
        "outputId": "201ecef5-7b81-405d-bf92-f02776219b5d"
      },
      "execution_count": 59,
      "outputs": [
        {
          "output_type": "execute_result",
          "data": {
            "text/plain": [
              "0.6"
            ]
          },
          "metadata": {},
          "execution_count": 59
        }
      ]
    },
    {
      "cell_type": "code",
      "source": [
        "## sistema 2\n",
        "\n",
        "c_2 = 1/2\n",
        "c_3 = 1/2\n",
        "\n",
        "## sistema 3\n",
        "c_4 = 3/4\n",
        "c_5 = 1/4\n",
        "\n",
        "entro_s1 = -((c_2*math.log2(c_2))+(c_3*math.log2(c_3)))\n",
        "print(entro_s1)\n",
        "entro_s2 = -((c_4*math.log2(c_4))+(c_5*math.log2(c_5)))\n",
        "print(entro_s1)\n",
        "\n",
        "Entropia_Total = (2/6*entro_s1)+(4/6*entro_s2)\n",
        "Entropia_Total"
      ],
      "metadata": {
        "colab": {
          "base_uri": "https://localhost:8080/"
        },
        "id": "eA9SbL77dABO",
        "outputId": "490702f0-62c2-43ee-84e6-945eae0e045c"
      },
      "execution_count": 60,
      "outputs": [
        {
          "output_type": "stream",
          "name": "stdout",
          "text": [
            "1.0\n",
            "1.0\n"
          ]
        },
        {
          "output_type": "execute_result",
          "data": {
            "text/plain": [
              "0.8741854163060885"
            ]
          },
          "metadata": {},
          "execution_count": 60
        }
      ]
    },
    {
      "cell_type": "code",
      "source": [
        "X = [[17],[19],[25],[30],[34]]\n",
        "y = [\"SI\",\"SI\",\"NO\",\"NO\",\"NO\"]\n"
      ],
      "metadata": {
        "id": "lZKh8ktYfHeS"
      },
      "execution_count": 61,
      "outputs": []
    },
    {
      "cell_type": "code",
      "source": [
        "## if  edad <= 32\n",
        "\n",
        "c32_1=2/4\n",
        "c32_2=2/4\n",
        "\n",
        "c32_3 = 0\n",
        "c32_4 = 1/1\n",
        "#entro_s1 = -((c_1*math.log2(c_1))+(c_2*math.log2(c_2)))\n",
        "\n",
        "entro32_s1 = -((c32_1*math.log2(c32_1))+(c32_2*math.log2(c32_2)))\n",
        "print(\"entropia 1\",entro32_s1)\n",
        "entro32_s2 = -((c32_4*math.log2(c32_4)))\n",
        "print(\"entropia 2\",entro32_s2)\n",
        "\n",
        "Entropia_Total = (4/5*entro32_s1)+(1/5*entro32_s2)\n",
        "print(\"entropia total\",Entropia_Total)"
      ],
      "metadata": {
        "colab": {
          "base_uri": "https://localhost:8080/"
        },
        "id": "OeWsV2BojyZV",
        "outputId": "c7b892f4-32b1-4261-8e59-92596d93b7ee"
      },
      "execution_count": 62,
      "outputs": [
        {
          "output_type": "stream",
          "name": "stdout",
          "text": [
            "entropia 1 1.0\n",
            "entropia 2 -0.0\n",
            "entropia total 0.8\n"
          ]
        }
      ]
    },
    {
      "cell_type": "code",
      "source": [
        "## if  edad <= 27.5\n",
        "\n",
        "c27_1=2/3\n",
        "c27_2=1/3\n",
        "\n",
        "c27_3 = 0\n",
        "c27_4 = 2/2\n",
        "\n",
        "#entro_s1 = -((c_1*math.log2(c_1))+(c_2*math.log2(c_2)))\n",
        "\n",
        "entro27_s1 = -((c27_1*math.log2(c27_1))+(c27_2*math.log2(c27_2)))\n",
        "print(\"entropia 1\",entro27_s1)\n",
        "entro27_s2 = -((c27_4*math.log2(c27_4)))\n",
        "print(\"entropia 2\",entro27_s2)\n",
        "\n",
        "Entropia_Total = (3/5*entro27_s1)+(2/5*entro27_s2)\n",
        "print(\"entropia total\",Entropia_Total)"
      ],
      "metadata": {
        "colab": {
          "base_uri": "https://localhost:8080/"
        },
        "id": "LY__nv9CjS5f",
        "outputId": "bffad370-3566-4b33-9013-f1e00641d6e6"
      },
      "execution_count": 63,
      "outputs": [
        {
          "output_type": "stream",
          "name": "stdout",
          "text": [
            "entropia 1 0.9182958340544896\n",
            "entropia 2 -0.0\n",
            "entropia total 0.5509775004326937\n"
          ]
        }
      ]
    },
    {
      "cell_type": "code",
      "source": [
        "## if  edad <= 22\n",
        "\n",
        "c22_1=2/2\n",
        "c22_2=0\n",
        "\n",
        "c22_3 = 0\n",
        "c22_4 = 3/3\n",
        "\n",
        "#entro_s1 = -((c_1*math.log2(c_1))+(c_2*math.log2(c_2)))\n",
        "\n",
        "entro22_s1 = -((c22_1*math.log2(c22_1)))\n",
        "print(\"entropia 1\",entro22_s1)\n",
        "entro22_s2 = -((c22_4*math.log2(c22_4)))\n",
        "print(\"entropia 2\",entro22_s2)\n",
        "\n",
        "Entropia_Total = (2/5*entro22_s1)+(3/5*entro22_s2)\n",
        "print(\"entropia total\",Entropia_Total)\n"
      ],
      "metadata": {
        "colab": {
          "base_uri": "https://localhost:8080/"
        },
        "id": "2j6ucaLGhP2v",
        "outputId": "35a7939f-2b86-497a-f7cc-eb87f9d0d679"
      },
      "execution_count": 64,
      "outputs": [
        {
          "output_type": "stream",
          "name": "stdout",
          "text": [
            "entropia 1 -0.0\n",
            "entropia 2 -0.0\n",
            "entropia total -0.0\n"
          ]
        }
      ]
    },
    {
      "cell_type": "code",
      "source": [
        "## IF  EDAD <= 18\n",
        "## sistema 2\n",
        "\n",
        "c18_1 = 1\n",
        "c18_2 = 0\n",
        "## sistema 3\n",
        "c18_3 = 3/4\n",
        "c18_4 = 1/4\n",
        "\n",
        "#entro_s1 = -((c_1*math.log2(c_1))+(c_2*math.log2(c_2)))\n",
        "\n",
        "entro18_s1 = -((c18_1*math.log2(c18_1)))\n",
        "print(\"entropia 1\",entro18_s1)\n",
        "entro18_s2 = -((c18_3*math.log2(c18_3))+(c18_4*math.log2(c18_4)))\n",
        "print(\"entropia 2\",entro18_s2)\n",
        "\n",
        "Entropia_Total = (1/5*entro18_s1)+(4/5*entro18_s2)\n",
        "print(\"entropia total\",Entropia_Total)\n"
      ],
      "metadata": {
        "colab": {
          "base_uri": "https://localhost:8080/"
        },
        "id": "8Plkg2DngSt3",
        "outputId": "79a0ec35-c0ec-4c1a-bb75-319dfe560c05"
      },
      "execution_count": 65,
      "outputs": [
        {
          "output_type": "stream",
          "name": "stdout",
          "text": [
            "entropia 1 -0.0\n",
            "entropia 2 0.8112781244591328\n",
            "entropia total 0.6490224995673063\n"
          ]
        }
      ]
    }
  ]
}