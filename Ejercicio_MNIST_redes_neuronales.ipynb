{
  "nbformat": 4,
  "nbformat_minor": 0,
  "metadata": {
    "colab": {
      "provenance": [],
      "authorship_tag": "ABX9TyOu4vihwkZbmOmGiSPEd9Pc",
      "include_colab_link": true
    },
    "kernelspec": {
      "name": "python3",
      "display_name": "Python 3"
    },
    "language_info": {
      "name": "python"
    }
  },
  "cells": [
    {
      "cell_type": "markdown",
      "metadata": {
        "id": "view-in-github",
        "colab_type": "text"
      },
      "source": [
        "<a href=\"https://colab.research.google.com/github/nestorm94/Aprendizaje_Maquinas/blob/main/Ejercicio_MNIST_redes_neuronales.ipynb\" target=\"_parent\"><img src=\"https://colab.research.google.com/assets/colab-badge.svg\" alt=\"Open In Colab\"/></a>"
      ]
    },
    {
      "cell_type": "code",
      "execution_count": 31,
      "metadata": {
        "id": "XaxSl_DV9SBa"
      },
      "outputs": [],
      "source": [
        "import keras\n",
        "import numpy as np\n",
        "import pandas as pd\n",
        "\n",
        "from sklearn.model_selection import train_test_split\n",
        "import tensorflow as tf\n",
        "from tensorflow import keras\n",
        "from tensorflow.keras import layers"
      ]
    },
    {
      "cell_type": "code",
      "source": [
        "x = np.array([[0.1, 0.3, 0.4],\n",
        "              [0.4, 0.3, 0.1],\n",
        "              [0.3, 0.2, 0.4]])\n",
        "y = np.array([0.1, 0.3, 0.4])"
      ],
      "metadata": {
        "id": "U-wkAVJz_xC-"
      },
      "execution_count": 14,
      "outputs": []
    },
    {
      "cell_type": "code",
      "source": [
        "model = keras.Sequential()\n",
        "model.add(keras.layers.Input(shape=(3,), name=\"capa_entrada\"))\n",
        "model.add(keras.layers.Dense(3, activation='relu', name=\"oculta_1\"))\n",
        "model.add(keras.layers.Dense(2, activation='relu', name=\"oculta_2\"))\n",
        "model.add(keras.layers.Dense(1, activation='relu', name=\"oculta_salida\"))"
      ],
      "metadata": {
        "id": "H22nqOj-9ajL"
      },
      "execution_count": 16,
      "outputs": []
    },
    {
      "cell_type": "code",
      "source": [
        "model.compile(loss=keras.losses.binary_crossentropy)"
      ],
      "metadata": {
        "id": "VCO3j5rt_YFQ"
      },
      "execution_count": 17,
      "outputs": []
    },
    {
      "cell_type": "code",
      "source": [
        "model.fit(x,y,epochs=5,validation_split=0.3)"
      ],
      "metadata": {
        "colab": {
          "base_uri": "https://localhost:8080/"
        },
        "id": "Pt70IVylAjDE",
        "outputId": "ae3cbccf-c297-4d1b-e560-0ddf5c6de7fe"
      },
      "execution_count": 18,
      "outputs": [
        {
          "output_type": "stream",
          "name": "stdout",
          "text": [
            "Epoch 1/5\n",
            "1/1 [==============================] - 1s 1s/step - loss: 3.0850 - val_loss: 6.1700\n",
            "Epoch 2/5\n",
            "1/1 [==============================] - 0s 35ms/step - loss: 3.0850 - val_loss: 6.1700\n",
            "Epoch 3/5\n",
            "1/1 [==============================] - 0s 36ms/step - loss: 3.0850 - val_loss: 6.1700\n",
            "Epoch 4/5\n",
            "1/1 [==============================] - 0s 34ms/step - loss: 3.0850 - val_loss: 6.1700\n",
            "Epoch 5/5\n",
            "1/1 [==============================] - 0s 32ms/step - loss: 3.0850 - val_loss: 6.1700\n"
          ]
        },
        {
          "output_type": "execute_result",
          "data": {
            "text/plain": [
              "<keras.src.callbacks.History at 0x7ce329d36380>"
            ]
          },
          "metadata": {},
          "execution_count": 18
        }
      ]
    },
    {
      "cell_type": "code",
      "source": [
        "\n",
        "df = pd.read_csv(\"/content/sample_data/mnist_train_small.csv\", header=None)\n"
      ],
      "metadata": {
        "id": "aKR6J_itCBQ3"
      },
      "execution_count": 26,
      "outputs": []
    },
    {
      "cell_type": "code",
      "source": [
        "\n",
        "# Separar las características (X) de las etiquetas (y)\n",
        "X = df.iloc[:, 1:].values\n",
        "y = df.iloc[:, 0].values\n",
        "\n",
        "# Normalizar los valores de píxeles (escalar entre 0 y 1)\n",
        "X = X / 255.0\n",
        "\n",
        "# Dividir los datos en conjuntos de entrenamiento y validación (70% entrenamiento, 30% validación)\n",
        "X_train, X_val, y_train, y_val = train_test_split(X, y, test_size=0.3, random_state=42)\n",
        "\n",
        "# Crear el modelo de red neuronal\n",
        "model = keras.Sequential()\n",
        "model.add(layers.Dense(100, activation='relu', input_shape=(X_train.shape[1],)))\n",
        "model.add(layers.Dense(100, activation='relu'))\n",
        "model.add(layers.Dense(10, activation='softmax'))\n",
        "\n",
        "# Compilar el modelo\n",
        "model.compile(optimizer='adam', loss='sparse_categorical_crossentropy', metrics=['accuracy'])\n",
        "\n",
        "# Entrenar el modelo\n",
        "model.fit(X_train, y_train, epochs=10, validation_data=(X_val, y_val))\n",
        "\n",
        "# Evaluar el modelo en el conjunto de prueba\n",
        "test_loss, test_accuracy = model.evaluate(X_val, y_val)\n",
        "print(f'Precisión en el conjunto de validación: {test_accuracy}')\n"
      ],
      "metadata": {
        "colab": {
          "base_uri": "https://localhost:8080/"
        },
        "id": "PlYD0jI3DxuV",
        "outputId": "1e4e3622-5ed2-48fb-cc95-c1e83c7846af"
      },
      "execution_count": 32,
      "outputs": [
        {
          "output_type": "stream",
          "name": "stdout",
          "text": [
            "Epoch 1/10\n",
            "438/438 [==============================] - 3s 6ms/step - loss: 0.4599 - accuracy: 0.8663 - val_loss: 0.2403 - val_accuracy: 0.9277\n",
            "Epoch 2/10\n",
            "438/438 [==============================] - 2s 4ms/step - loss: 0.1900 - accuracy: 0.9459 - val_loss: 0.2036 - val_accuracy: 0.9398\n",
            "Epoch 3/10\n",
            "438/438 [==============================] - 2s 4ms/step - loss: 0.1326 - accuracy: 0.9631 - val_loss: 0.1611 - val_accuracy: 0.9503\n",
            "Epoch 4/10\n",
            "438/438 [==============================] - 2s 4ms/step - loss: 0.0944 - accuracy: 0.9724 - val_loss: 0.1676 - val_accuracy: 0.9483\n",
            "Epoch 5/10\n",
            "438/438 [==============================] - 2s 5ms/step - loss: 0.0737 - accuracy: 0.9786 - val_loss: 0.1383 - val_accuracy: 0.9610\n",
            "Epoch 6/10\n",
            "438/438 [==============================] - 2s 5ms/step - loss: 0.0522 - accuracy: 0.9846 - val_loss: 0.1505 - val_accuracy: 0.9553\n",
            "Epoch 7/10\n",
            "438/438 [==============================] - 2s 4ms/step - loss: 0.0414 - accuracy: 0.9879 - val_loss: 0.1597 - val_accuracy: 0.9540\n",
            "Epoch 8/10\n",
            "438/438 [==============================] - 2s 4ms/step - loss: 0.0316 - accuracy: 0.9901 - val_loss: 0.1427 - val_accuracy: 0.9603\n",
            "Epoch 9/10\n",
            "438/438 [==============================] - 2s 4ms/step - loss: 0.0267 - accuracy: 0.9915 - val_loss: 0.1611 - val_accuracy: 0.9583\n",
            "Epoch 10/10\n",
            "438/438 [==============================] - 2s 4ms/step - loss: 0.0219 - accuracy: 0.9929 - val_loss: 0.1630 - val_accuracy: 0.9628\n",
            "188/188 [==============================] - 0s 2ms/step - loss: 0.1630 - accuracy: 0.9628\n",
            "Precisión en el conjunto de validación: 0.9628333449363708\n"
          ]
        }
      ]
    },
    {
      "cell_type": "code",
      "source": [
        "y[6]"
      ],
      "metadata": {
        "colab": {
          "base_uri": "https://localhost:8080/"
        },
        "id": "uxGIQXZ0Gq0v",
        "outputId": "fbccc8fa-f8b8-498a-a6d3-37870bfc44db"
      },
      "execution_count": 33,
      "outputs": [
        {
          "output_type": "execute_result",
          "data": {
            "text/plain": [
              "0"
            ]
          },
          "metadata": {},
          "execution_count": 33
        }
      ]
    }
  ]
}