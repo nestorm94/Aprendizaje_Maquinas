{
  "nbformat": 4,
  "nbformat_minor": 0,
  "metadata": {
    "colab": {
      "provenance": [],
      "include_colab_link": true
    },
    "kernelspec": {
      "name": "python3",
      "display_name": "Python 3"
    },
    "language_info": {
      "name": "python"
    }
  },
  "cells": [
    {
      "cell_type": "markdown",
      "metadata": {
        "id": "view-in-github",
        "colab_type": "text"
      },
      "source": [
        "<a href=\"https://colab.research.google.com/github/nestorm94/Aprendizaje_Maquinas/blob/main/NestorM_Quiz.ipynb\" target=\"_parent\"><img src=\"https://colab.research.google.com/assets/colab-badge.svg\" alt=\"Open In Colab\"/></a>"
      ]
    },
    {
      "cell_type": "code",
      "execution_count": null,
      "metadata": {
        "id": "xpK-FljqhWmk"
      },
      "outputs": [],
      "source": [
        "import numpy as np\n",
        "from sklearn.metrics import pairwise_distances\n",
        "from sklearn.impute import SimpleImputer\n",
        "from sklearn.impute import KNNImputer\n",
        "import pandas as pd\n",
        "from sklearn.tree import DecisionTreeClassifier\n",
        "from sklearn.model_selection import cross_validate"
      ]
    },
    {
      "cell_type": "code",
      "source": [
        "datos = np.array([[3, np.nan, 4],\n",
        "                 [18, 15, 12],\n",
        "                 [19, np.nan, 18],\n",
        "                 [2, 18, 4],\n",
        "                 [3, 2, 8],\n",
        "                 [4, 10, 5],\n",
        "                 [4, 0, 10],\n",
        "                 [10, 20, 10],\n",
        "                 ])"
      ],
      "metadata": {
        "id": "PPEZ61SJhfuN"
      },
      "execution_count": null,
      "outputs": []
    },
    {
      "cell_type": "code",
      "source": [
        "datos"
      ],
      "metadata": {
        "colab": {
          "base_uri": "https://localhost:8080/"
        },
        "id": "4PFoS6eviEZT",
        "outputId": "c79fee9e-7957-4269-88dc-718521c5bc31"
      },
      "execution_count": null,
      "outputs": [
        {
          "output_type": "execute_result",
          "data": {
            "text/plain": [
              "array([[ 3., nan,  4.],\n",
              "       [18., 15., 12.],\n",
              "       [19., nan, 18.],\n",
              "       [ 2., 18.,  4.],\n",
              "       [ 3.,  2.,  8.],\n",
              "       [ 4., 10.,  5.],\n",
              "       [ 4.,  0., 10.],\n",
              "       [10., 20., 10.]])"
            ]
          },
          "metadata": {},
          "execution_count": 3
        }
      ]
    },
    {
      "cell_type": "code",
      "source": [
        "colA = datos[:, 0]\n",
        "colB = datos[:, -1]\n",
        "colC = datos[:, 1]\n",
        "datos_n = np.c_[colA, colB, colC]"
      ],
      "metadata": {
        "id": "WnPaOf3KiKC3"
      },
      "execution_count": null,
      "outputs": []
    },
    {
      "cell_type": "code",
      "source": [
        "datos_n"
      ],
      "metadata": {
        "colab": {
          "base_uri": "https://localhost:8080/"
        },
        "id": "_8H-8ilbkG_G",
        "outputId": "4df8ce0d-6509-4ca0-bb3f-a88636332d83"
      },
      "execution_count": null,
      "outputs": [
        {
          "output_type": "execute_result",
          "data": {
            "text/plain": [
              "array([[ 3.,  4., nan],\n",
              "       [18., 12., 15.],\n",
              "       [19., 18., nan],\n",
              "       [ 2.,  4., 18.],\n",
              "       [ 3.,  8.,  2.],\n",
              "       [ 4.,  5., 10.],\n",
              "       [ 4., 10.,  0.],\n",
              "       [10., 10., 20.]])"
            ]
          },
          "metadata": {},
          "execution_count": 5
        }
      ]
    },
    {
      "cell_type": "code",
      "source": [
        "dist = pairwise_distances(datos_n[:, :2])"
      ],
      "metadata": {
        "id": "8DeZoTQukIrm"
      },
      "execution_count": null,
      "outputs": []
    },
    {
      "cell_type": "code",
      "source": [
        "dist"
      ],
      "metadata": {
        "colab": {
          "base_uri": "https://localhost:8080/"
        },
        "id": "T2QpA2ChlzFd",
        "outputId": "3102ff62-cb78-4a4a-dcce-0e1187604739"
      },
      "execution_count": null,
      "outputs": [
        {
          "output_type": "execute_result",
          "data": {
            "text/plain": [
              "array([[ 0.        , 17.        , 21.26029163,  1.        ,  4.        ,\n",
              "         1.41421356,  6.08276253,  9.21954446],\n",
              "       [17.        ,  0.        ,  6.08276253, 17.88854382, 15.5241747 ,\n",
              "        15.65247584, 14.14213562,  8.24621125],\n",
              "       [21.26029163,  6.08276253,  0.        , 22.02271555, 18.86796226,\n",
              "        19.84943324, 17.        , 12.04159458],\n",
              "       [ 1.        , 17.88854382, 22.02271555,  0.        ,  4.12310563,\n",
              "         2.23606798,  6.32455532, 10.        ],\n",
              "       [ 4.        , 15.5241747 , 18.86796226,  4.12310563,  0.        ,\n",
              "         3.16227766,  2.23606798,  7.28010989],\n",
              "       [ 1.41421356, 15.65247584, 19.84943324,  2.23606798,  3.16227766,\n",
              "         0.        ,  5.        ,  7.81024968],\n",
              "       [ 6.08276253, 14.14213562, 17.        ,  6.32455532,  2.23606798,\n",
              "         5.        ,  0.        ,  6.        ],\n",
              "       [ 9.21954446,  8.24621125, 12.04159458, 10.        ,  7.28010989,\n",
              "         7.81024968,  6.        ,  0.        ]])"
            ]
          },
          "metadata": {},
          "execution_count": 7
        }
      ]
    },
    {
      "cell_type": "code",
      "source": [
        "uno = (datos_n[3][2] + datos_n[4][2] + datos_n[5][2]) / 3\n",
        "dos = (datos_n[1][2] + datos_n[6][2] + datos_n[7][2]) / 3\n",
        "print(\"número uno: \", uno, \"número dos: \", dos)"
      ],
      "metadata": {
        "colab": {
          "base_uri": "https://localhost:8080/"
        },
        "id": "xsRZOyarl7n7",
        "outputId": "26d03735-d02f-414e-9e36-e045f0d40919"
      },
      "execution_count": null,
      "outputs": [
        {
          "output_type": "stream",
          "name": "stdout",
          "text": [
            "número uno:  10.0 número dos:  11.666666666666666\n"
          ]
        }
      ]
    },
    {
      "cell_type": "code",
      "source": [
        "datos_n[0][2] = uno\n",
        "datos_n[2][2] = dos"
      ],
      "metadata": {
        "id": "nGa-h5A3pTRs"
      },
      "execution_count": null,
      "outputs": []
    },
    {
      "cell_type": "code",
      "source": [
        "datos_n"
      ],
      "metadata": {
        "id": "wke356CYpdtY",
        "outputId": "8f25c78e-05d8-405e-9dec-3d5eb5475cd5",
        "colab": {
          "base_uri": "https://localhost:8080/"
        }
      },
      "execution_count": null,
      "outputs": [
        {
          "output_type": "execute_result",
          "data": {
            "text/plain": [
              "array([[ 3.        ,  4.        , 10.        ],\n",
              "       [18.        , 12.        , 15.        ],\n",
              "       [19.        , 18.        , 11.66666667],\n",
              "       [ 2.        ,  4.        , 18.        ],\n",
              "       [ 3.        ,  8.        ,  2.        ],\n",
              "       [ 4.        ,  5.        , 10.        ],\n",
              "       [ 4.        , 10.        ,  0.        ],\n",
              "       [10.        , 10.        , 20.        ]])"
            ]
          },
          "metadata": {},
          "execution_count": 10
        }
      ]
    },
    {
      "cell_type": "code",
      "source": [
        "knnImputer = KNNImputer(n_neighbors=3)\n",
        "knnImputer.fit(datos_n)\n",
        "knnImputer.transform(datos_n)"
      ],
      "metadata": {
        "colab": {
          "base_uri": "https://localhost:8080/"
        },
        "id": "hY8FE5YKkVYs",
        "outputId": "d258b760-fed1-4d29-d7ee-16bea818bba7"
      },
      "execution_count": null,
      "outputs": [
        {
          "output_type": "execute_result",
          "data": {
            "text/plain": [
              "array([[ 3.        ,  4.        , 10.        ],\n",
              "       [18.        , 12.        , 15.        ],\n",
              "       [19.        , 18.        , 11.66666667],\n",
              "       [ 2.        ,  4.        , 18.        ],\n",
              "       [ 3.        ,  8.        ,  2.        ],\n",
              "       [ 4.        ,  5.        , 10.        ],\n",
              "       [ 4.        , 10.        ,  0.        ],\n",
              "       [10.        , 10.        , 20.        ]])"
            ]
          },
          "metadata": {},
          "execution_count": 11
        }
      ]
    }
  ]
}