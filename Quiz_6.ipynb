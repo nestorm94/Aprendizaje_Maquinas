{
  "nbformat": 4,
  "nbformat_minor": 0,
  "metadata": {
    "colab": {
      "provenance": [],
      "authorship_tag": "ABX9TyPd1rWVEqAt9Xqm3R3TNpdf",
      "include_colab_link": true
    },
    "kernelspec": {
      "name": "python3",
      "display_name": "Python 3"
    },
    "language_info": {
      "name": "python"
    }
  },
  "cells": [
    {
      "cell_type": "markdown",
      "metadata": {
        "id": "view-in-github",
        "colab_type": "text"
      },
      "source": [
        "<a href=\"https://colab.research.google.com/github/nestorm94/Aprendizaje_Maquinas/blob/main/Quiz_6.ipynb\" target=\"_parent\"><img src=\"https://colab.research.google.com/assets/colab-badge.svg\" alt=\"Open In Colab\"/></a>"
      ]
    },
    {
      "cell_type": "code",
      "execution_count": 26,
      "metadata": {
        "id": "Qjbl4yljvgHB"
      },
      "outputs": [],
      "source": [
        "from sklearn.metrics import pairwise_distances\n",
        "from sklearn.neighbors import KNeighborsClassifier,KNeighborsRegressor\n",
        "import pandas as pd\n",
        "import numpy as np\n",
        "import math"
      ]
    },
    {
      "cell_type": "markdown",
      "source": [
        "x1    [2,,1,5 ,7,9,1,0,-2,-1]\n",
        "\n",
        "x2    [1,-3,0,2,1,2,1,-1,-3,5]\n",
        "\n",
        "x3    [1,1,2,2,2,10,1,-11,2,-4]\n",
        "\n",
        "x4    [2,0,0,1,3,7,2,-3,-2,-1]\n",
        "\n",
        "y     [1,0,0,1,2,0,1,1,2,2]"
      ],
      "metadata": {
        "id": "x_UPi7H1vqT4"
      }
    },
    {
      "cell_type": "code",
      "source": [
        "df= pd.DataFrame({\"x1\": [2,3,1,5 ,7,9,1,0,-2,-1],\n",
        "                  \"x2\": [1,-3,0,2,1,2,1,-1,-3,5],\n",
        "                  \"x3\": [1,1,2,2,2,10,1,-11,2,-4],\n",
        "                  \"x4\": [2,0,0,1,3,7,2,-3,-2,-1],\n",
        "                  \"y\":  [1,0,0,1,2,0,1,1,2,2]})"
      ],
      "metadata": {
        "id": "ni8XV38-vkpZ"
      },
      "execution_count": 11,
      "outputs": []
    },
    {
      "cell_type": "code",
      "source": [
        "\n",
        "X_test = np.array([[1, 3, 2, -3]])\n",
        "\n",
        "k = 3\n",
        "df['distance'] = np.sqrt(np.sum((df[['x1', 'x2', 'x3', 'x4']] - X_test) ** 2, axis=1))\n",
        "nearest_neighbors = df.nsmallest(k, 'distance')\n",
        "nearest_labels = nearest_neighbors['y'].values\n",
        "unique_labels, counts = np.unique(nearest_labels, return_counts=True)\n",
        "probabilities = counts / k\n",
        "predict_proba_result = {label: probability for label, probability in zip(unique_labels, probabilities)}\n",
        "print(\"Resultado de predict_proba:\", predict_proba_result)"
      ],
      "metadata": {
        "colab": {
          "base_uri": "https://localhost:8080/"
        },
        "id": "uzeh0ndIxafX",
        "outputId": "cb13bf2b-bd49-4941-dcda-3019ebd4fc5c"
      },
      "execution_count": 12,
      "outputs": [
        {
          "output_type": "stream",
          "name": "stdout",
          "text": [
            "Resultado de predict_proba: {0: 0.3333333333333333, 1: 0.6666666666666666}\n"
          ]
        }
      ]
    },
    {
      "cell_type": "code",
      "source": [
        "nearest_labels"
      ],
      "metadata": {
        "colab": {
          "base_uri": "https://localhost:8080/"
        },
        "id": "cIim4ur66epn",
        "outputId": "adee9ed3-4117-489f-e645-bc4521eed453"
      },
      "execution_count": 17,
      "outputs": [
        {
          "output_type": "execute_result",
          "data": {
            "text/plain": [
              "array([0, 1, 1])"
            ]
          },
          "metadata": {},
          "execution_count": 17
        }
      ]
    },
    {
      "cell_type": "code",
      "source": [
        "x=df[[\"x1\", \"x2\",\"x3\", \"x4\"]]\n",
        "y=df[\"y\"]"
      ],
      "metadata": {
        "id": "7Z1TjTqDySzc"
      },
      "execution_count": 13,
      "outputs": []
    },
    {
      "cell_type": "code",
      "source": [
        "model = KNeighborsClassifier(n_neighbors=3)\n",
        "model.fit(x,y)\n",
        "print(model.predict([[1, 3, 2, -3]]))\n",
        "print(model.predict_proba([[1, 3, 2, -3]]))"
      ],
      "metadata": {
        "colab": {
          "base_uri": "https://localhost:8080/"
        },
        "id": "uGSA3FfOx8PZ",
        "outputId": "b23aea72-7755-4e1e-bbfe-7305616f3277"
      },
      "execution_count": 14,
      "outputs": [
        {
          "output_type": "stream",
          "name": "stdout",
          "text": [
            "[1]\n",
            "[[0.33333333 0.66666667 0.        ]]\n"
          ]
        },
        {
          "output_type": "stream",
          "name": "stderr",
          "text": [
            "/usr/local/lib/python3.10/dist-packages/sklearn/base.py:439: UserWarning: X does not have valid feature names, but KNeighborsClassifier was fitted with feature names\n",
            "  warnings.warn(\n",
            "/usr/local/lib/python3.10/dist-packages/sklearn/base.py:439: UserWarning: X does not have valid feature names, but KNeighborsClassifier was fitted with feature names\n",
            "  warnings.warn(\n"
          ]
        }
      ]
    },
    {
      "cell_type": "code",
      "source": [
        "pairwise_distances(x,[[1, 3, 2, -3]])"
      ],
      "metadata": {
        "colab": {
          "base_uri": "https://localhost:8080/"
        },
        "id": "QHKr3gGp0JBd",
        "outputId": "2f2d4f35-4c8d-485b-d1f3-cbead1db3aa1"
      },
      "execution_count": 15,
      "outputs": [
        {
          "output_type": "execute_result",
          "data": {
            "text/plain": [
              "array([[ 5.56776436],\n",
              "       [ 7.07106781],\n",
              "       [ 4.24264069],\n",
              "       [ 5.74456265],\n",
              "       [ 8.71779789],\n",
              "       [15.13274595],\n",
              "       [ 5.47722558],\n",
              "       [13.6381817 ],\n",
              "       [ 6.78232998],\n",
              "       [ 6.92820323]])"
            ]
          },
          "metadata": {},
          "execution_count": 15
        }
      ]
    },
    {
      "cell_type": "code",
      "source": [
        "df['distance']"
      ],
      "metadata": {
        "colab": {
          "base_uri": "https://localhost:8080/"
        },
        "id": "tBMYA4or0_q6",
        "outputId": "a214b02d-9cf6-46d5-9f51-1b4ec6cfd22a"
      },
      "execution_count": 16,
      "outputs": [
        {
          "output_type": "execute_result",
          "data": {
            "text/plain": [
              "0     5.567764\n",
              "1     7.071068\n",
              "2     4.242641\n",
              "3     5.744563\n",
              "4     8.717798\n",
              "5    15.132746\n",
              "6     5.477226\n",
              "7    13.638182\n",
              "8     6.782330\n",
              "9     6.928203\n",
              "Name: distance, dtype: float64"
            ]
          },
          "metadata": {},
          "execution_count": 16
        }
      ]
    },
    {
      "cell_type": "markdown",
      "source": [
        "#. parte 2\n"
      ],
      "metadata": {
        "id": "F_84LSGL4NGa"
      }
    },
    {
      "cell_type": "code",
      "source": [
        "df_2 = pd.DataFrame({\"X1\": [3, 2, 3, 1, 4, 5],\n",
        "                  \"X2\":[1, 5, 1, 3, 1, 2],\n",
        "                  \"X3\": [4, 1, 4, 2, 1, 4],\n",
        "                  \"y\":[4.1, 4.3, 2.1, 3.3, 4.1, 3.5]})"
      ],
      "metadata": {
        "id": "P-CHxM0d4QGV"
      },
      "execution_count": 35,
      "outputs": []
    },
    {
      "cell_type": "code",
      "source": [
        "x_1= df_2[[\"X1\", \"X2\",\"X3\"]]\n",
        "y_1=df_2[\"y\"]"
      ],
      "metadata": {
        "id": "nB11QnPC7YI7"
      },
      "execution_count": 36,
      "outputs": []
    },
    {
      "cell_type": "code",
      "source": [
        "pairwise_distances(x_1,[[0, 1, 3]])"
      ],
      "metadata": {
        "colab": {
          "base_uri": "https://localhost:8080/"
        },
        "id": "b3tgNJZq7oTv",
        "outputId": "9470bebd-8270-4a28-cc7c-7d1fc0fff6ac"
      },
      "execution_count": 37,
      "outputs": [
        {
          "output_type": "execute_result",
          "data": {
            "text/plain": [
              "array([[3.16227766],\n",
              "       [4.89897949],\n",
              "       [3.16227766],\n",
              "       [2.44948974],\n",
              "       [4.47213595],\n",
              "       [5.19615242]])"
            ]
          },
          "metadata": {},
          "execution_count": 37
        }
      ]
    },
    {
      "cell_type": "code",
      "source": [
        "mode_l = KNeighborsRegressor(n_neighbors=3)\n",
        "mode_l.fit(x_1,y_1)\n",
        "#print(mode_l.predict([[0, 1, 3]]))\n",
        "print(mode_l.predict([[0, 1, 3]]))"
      ],
      "metadata": {
        "colab": {
          "base_uri": "https://localhost:8080/"
        },
        "id": "q8BVIxa_8Ne_",
        "outputId": "d9f5cc08-bcbc-47e5-ba86-60acf1679ca9"
      },
      "execution_count": 39,
      "outputs": [
        {
          "output_type": "stream",
          "name": "stdout",
          "text": [
            "[3.16666667]\n"
          ]
        },
        {
          "output_type": "stream",
          "name": "stderr",
          "text": [
            "/usr/local/lib/python3.10/dist-packages/sklearn/base.py:439: UserWarning: X does not have valid feature names, but KNeighborsRegressor was fitted with feature names\n",
            "  warnings.warn(\n"
          ]
        }
      ]
    }
  ]
}