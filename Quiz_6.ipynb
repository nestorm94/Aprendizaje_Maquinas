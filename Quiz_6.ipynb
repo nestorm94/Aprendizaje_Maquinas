{
  "nbformat": 4,
  "nbformat_minor": 0,
  "metadata": {
    "colab": {
      "provenance": [],
      "authorship_tag": "ABX9TyNX/qcojOUrJ0xF5rUCptu+",
      "include_colab_link": true
    },
    "kernelspec": {
      "name": "python3",
      "display_name": "Python 3"
    },
    "language_info": {
      "name": "python"
    }
  },
  "cells": [
    {
      "cell_type": "markdown",
      "metadata": {
        "id": "view-in-github",
        "colab_type": "text"
      },
      "source": [
        "<a href=\"https://colab.research.google.com/github/nestorm94/Aprendizaje_Maquinas/blob/main/Quiz_6.ipynb\" target=\"_parent\"><img src=\"https://colab.research.google.com/assets/colab-badge.svg\" alt=\"Open In Colab\"/></a>"
      ]
    },
    {
      "cell_type": "code",
      "execution_count": 10,
      "metadata": {
        "id": "Qjbl4yljvgHB"
      },
      "outputs": [],
      "source": [
        "from sklearn.metrics import pairwise_distances\n",
        "from sklearn.neighbors import KNeighborsClassifier\n",
        "import pandas as pd\n",
        "import numpy as np\n",
        "import math"
      ]
    },
    {
      "cell_type": "markdown",
      "source": [
        "x1    [2,,1,5 ,7,9,1,0,-2,-1]\n",
        "\n",
        "x2    [1,-3,0,2,1,2,1,-1,-3,5]\n",
        "\n",
        "x3    [1,1,2,2,2,10,1,-11,2,-4]\n",
        "\n",
        "x4    [2,0,0,1,3,7,2,-3,-2,-1]\n",
        "\n",
        "y     [1,0,0,1,2,0,1,1,2,2]"
      ],
      "metadata": {
        "id": "x_UPi7H1vqT4"
      }
    },
    {
      "cell_type": "code",
      "source": [
        "df= pd.DataFrame({\"x1\": [2,3,1,5 ,7,9,1,0,-2,-1] ,\n",
        "                  \"x2\":[1,-3,0,2,1,2,1,-1,-3,5],\n",
        "                  \"x3\": [1,1,2,2,2,10,1,-11,2,-4],\n",
        "                  \"x4\":[2,0,0,1,3,7,2,-3,-2,-1],\n",
        "                  \"y\": [1,0,0,1,2,0,1,1,2,2]})"
      ],
      "metadata": {
        "id": "ni8XV38-vkpZ"
      },
      "execution_count": 11,
      "outputs": []
    },
    {
      "cell_type": "code",
      "source": [
        "\n",
        "X_test = np.array([[1, 3, 2, -3]])\n",
        "\n",
        "k = 3\n",
        "\n",
        "df['distance'] = np.sqrt(np.sum((df[['x1', 'x2', 'x3', 'x4']] - X_test) ** 2, axis=1))\n",
        "\n",
        "nearest_neighbors = df.nsmallest(k, 'distance')\n",
        "\n",
        "nearest_labels = nearest_neighbors['y'].values\n",
        "unique_labels, counts = np.unique(nearest_labels, return_counts=True)\n",
        "probabilities = counts / k\n",
        "\n",
        "predict_proba_result = {label: probability for label, probability in zip(unique_labels, probabilities)}\n",
        "\n",
        "print(\"Resultado de predict_proba:\", predict_proba_result)\n"
      ],
      "metadata": {
        "colab": {
          "base_uri": "https://localhost:8080/"
        },
        "id": "uzeh0ndIxafX",
        "outputId": "cb13bf2b-bd49-4941-dcda-3019ebd4fc5c"
      },
      "execution_count": 12,
      "outputs": [
        {
          "output_type": "stream",
          "name": "stdout",
          "text": [
            "Resultado de predict_proba: {0: 0.3333333333333333, 1: 0.6666666666666666}\n"
          ]
        }
      ]
    },
    {
      "cell_type": "code",
      "source": [
        "x=df[[\"x1\", \"x2\",\"x3\", \"x4\"]]\n",
        "y=df[\"y\"]"
      ],
      "metadata": {
        "id": "7Z1TjTqDySzc"
      },
      "execution_count": 13,
      "outputs": []
    },
    {
      "cell_type": "code",
      "source": [
        "model = KNeighborsClassifier(n_neighbors=3)\n",
        "model.fit(x,y)\n",
        "print(model.predict([[1, 3, 2, -3]]))\n",
        "print(model.predict_proba([[1, 3, 2, -3]]))"
      ],
      "metadata": {
        "colab": {
          "base_uri": "https://localhost:8080/"
        },
        "id": "uGSA3FfOx8PZ",
        "outputId": "b23aea72-7755-4e1e-bbfe-7305616f3277"
      },
      "execution_count": 14,
      "outputs": [
        {
          "output_type": "stream",
          "name": "stdout",
          "text": [
            "[1]\n",
            "[[0.33333333 0.66666667 0.        ]]\n"
          ]
        },
        {
          "output_type": "stream",
          "name": "stderr",
          "text": [
            "/usr/local/lib/python3.10/dist-packages/sklearn/base.py:439: UserWarning: X does not have valid feature names, but KNeighborsClassifier was fitted with feature names\n",
            "  warnings.warn(\n",
            "/usr/local/lib/python3.10/dist-packages/sklearn/base.py:439: UserWarning: X does not have valid feature names, but KNeighborsClassifier was fitted with feature names\n",
            "  warnings.warn(\n"
          ]
        }
      ]
    }
  ]
}