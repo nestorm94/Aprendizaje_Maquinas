{
  "nbformat": 4,
  "nbformat_minor": 0,
  "metadata": {
    "colab": {
      "provenance": [],
      "authorship_tag": "ABX9TyOYPrxVFsLIL5ruDHhGDZJM",
      "include_colab_link": true
    },
    "kernelspec": {
      "name": "python3",
      "display_name": "Python 3"
    },
    "language_info": {
      "name": "python"
    }
  },
  "cells": [
    {
      "cell_type": "markdown",
      "metadata": {
        "id": "view-in-github",
        "colab_type": "text"
      },
      "source": [
        "<a href=\"https://colab.research.google.com/github/nestorm94/Aprendizaje_Maquinas/blob/main/ejercicio_knn.ipynb\" target=\"_parent\"><img src=\"https://colab.research.google.com/assets/colab-badge.svg\" alt=\"Open In Colab\"/></a>"
      ]
    },
    {
      "cell_type": "code",
      "execution_count": null,
      "metadata": {
        "id": "x6limNoqjhOU"
      },
      "outputs": [],
      "source": [
        "from sklearn.metrics import pairwise_distances\n",
        "from sklearn.neighbors import KNeighborsClassifier\n",
        "import pandas as pd\n",
        "\n",
        "import math"
      ]
    },
    {
      "cell_type": "code",
      "source": [
        "df= pd.DataFrame({\"NotaProg\": [4.3,4 ,3, 1.4, 2.0, 3.1, 4],\n",
        "                  \"NotaEtica\":[2.1,4 ,2, 5, 4.7, 2.0, 4],\n",
        "                  \"PasaML\":[\"SI\",\"NO\",\"NO\",\"SI\",\"SI\",\"NO\",\"NO\"]})"
      ],
      "metadata": {
        "id": "yhimSAxyoEQc"
      },
      "execution_count": null,
      "outputs": []
    },
    {
      "cell_type": "code",
      "source": [
        "x=df[[\"NotaProg\", \"NotaEtica\"]]\n",
        "y=df[\"PasaML\"]"
      ],
      "metadata": {
        "id": "nkaH1IZLonry"
      },
      "execution_count": null,
      "outputs": []
    },
    {
      "cell_type": "code",
      "source": [
        "\n",
        "X = [[4.3],[4.0],[3.0],[1.4],[2.0],[2.1],[4.0]]\n",
        "X = [[2.1],[4.2],[2.0],[5.0],[4.7],[2.0],[4.0]]\n",
        "y = [\"SI\",\"NO\",\"NO\",\"SI\",\"SI\",\"NO\",\"NO\"]\n",
        "\n"
      ],
      "metadata": {
        "id": "gcZvVY7QkPCi"
      },
      "execution_count": null,
      "outputs": []
    },
    {
      "cell_type": "code",
      "source": [
        "pairwise_distances(x,[[3.8,1.9]])"
      ],
      "metadata": {
        "colab": {
          "base_uri": "https://localhost:8080/"
        },
        "id": "AZXDhmtlqXCA",
        "outputId": "69dd4ff0-c8c5-4b32-ff1e-0f1b4e3b8ce3"
      },
      "execution_count": null,
      "outputs": [
        {
          "output_type": "execute_result",
          "data": {
            "text/plain": [
              "array([[0.53851648],\n",
              "       [2.10950231],\n",
              "       [0.80622577],\n",
              "       [3.92045916],\n",
              "       [3.3286634 ],\n",
              "       [0.70710678],\n",
              "       [2.10950231]])"
            ]
          },
          "metadata": {},
          "execution_count": 26
        }
      ]
    },
    {
      "cell_type": "code",
      "source": [
        "model = KNeighborsClassifier(n_neighbors=1)\n",
        "model.fit(x,y)\n",
        "print(model.predict([[3.8,1.9]]))\n",
        "print(model.predict_proba([[3.8,1.9]]))"
      ],
      "metadata": {
        "colab": {
          "base_uri": "https://localhost:8080/"
        },
        "id": "EfRET36zqaPZ",
        "outputId": "ed81173d-b2bd-4c54-bdd4-82feb5201007"
      },
      "execution_count": null,
      "outputs": [
        {
          "output_type": "stream",
          "name": "stderr",
          "text": [
            "/usr/local/lib/python3.10/dist-packages/sklearn/base.py:439: UserWarning: X does not have valid feature names, but KNeighborsClassifier was fitted with feature names\n",
            "  warnings.warn(\n",
            "/usr/local/lib/python3.10/dist-packages/sklearn/base.py:439: UserWarning: X does not have valid feature names, but KNeighborsClassifier was fitted with feature names\n",
            "  warnings.warn(\n"
          ]
        },
        {
          "output_type": "execute_result",
          "data": {
            "text/plain": [
              "array([[0., 1.]])"
            ]
          },
          "metadata": {},
          "execution_count": 37
        }
      ]
    },
    {
      "cell_type": "code",
      "source": [],
      "metadata": {
        "id": "HVaGN_avqpbD"
      },
      "execution_count": null,
      "outputs": []
    },
    {
      "cell_type": "code",
      "source": [
        "model2 = KNeighborsClassifier(n_neighbors=2)\n",
        "model2.fit(x,y)\n",
        "print(model2.predict([[3.8,1.9]]))\n",
        "print(model2.predict_proba([[3.8,1.9]]))"
      ],
      "metadata": {
        "colab": {
          "base_uri": "https://localhost:8080/"
        },
        "id": "hVj8bm4-rC8L",
        "outputId": "b8aa7424-d545-4d6c-8a2c-0c93fde269ba"
      },
      "execution_count": null,
      "outputs": [
        {
          "output_type": "stream",
          "name": "stdout",
          "text": [
            "['NO']\n",
            "[[0.5 0.5]]\n"
          ]
        },
        {
          "output_type": "stream",
          "name": "stderr",
          "text": [
            "/usr/local/lib/python3.10/dist-packages/sklearn/base.py:439: UserWarning: X does not have valid feature names, but KNeighborsClassifier was fitted with feature names\n",
            "  warnings.warn(\n",
            "/usr/local/lib/python3.10/dist-packages/sklearn/base.py:439: UserWarning: X does not have valid feature names, but KNeighborsClassifier was fitted with feature names\n",
            "  warnings.warn(\n"
          ]
        }
      ]
    },
    {
      "cell_type": "code",
      "source": [
        "model3 = KNeighborsClassifier(n_neighbors=3)\n",
        "model3.fit(x,y)\n",
        "print(model3.predict([[3.8,1.9]]))\n",
        "print(model3.predict_proba([[3.8,1.9]]))"
      ],
      "metadata": {
        "colab": {
          "base_uri": "https://localhost:8080/"
        },
        "id": "i24o54XxrjaW",
        "outputId": "ed72fa46-98e7-4ae4-dd14-26aa2c712c9b"
      },
      "execution_count": null,
      "outputs": [
        {
          "output_type": "stream",
          "name": "stdout",
          "text": [
            "['NO']\n",
            "[[0.66666667 0.33333333]]\n"
          ]
        },
        {
          "output_type": "stream",
          "name": "stderr",
          "text": [
            "/usr/local/lib/python3.10/dist-packages/sklearn/base.py:439: UserWarning: X does not have valid feature names, but KNeighborsClassifier was fitted with feature names\n",
            "  warnings.warn(\n",
            "/usr/local/lib/python3.10/dist-packages/sklearn/base.py:439: UserWarning: X does not have valid feature names, but KNeighborsClassifier was fitted with feature names\n",
            "  warnings.warn(\n"
          ]
        }
      ]
    },
    {
      "cell_type": "code",
      "source": [
        "distancia1 = math.sqrt(((4.3-3.8)**2)+((2.1-1.9)**2))\n",
        "distancia2 = math.sqrt(((4.0-3.8)**2)+((4.2-1.9)**2))\n",
        "distancia3 = math.sqrt(((3.0-3.8)**2)+((2.0-1.9)**2))\n",
        "distancia4 = math.sqrt(((1.4-3.8)**2)+((5.0-1.9)**2))\n",
        "distancia5 = math.sqrt(((2.0-3.8)**2)+((4.7-1.9)**2))\n",
        "distancia6 = math.sqrt(((2.1-3.8)**2)+((2.0-1.9)**2))\n",
        "distancia2 = math.sqrt(((4.0-3.8)**2)+((4.0-1.9)**2))\n"
      ],
      "metadata": {
        "id": "w5DeSKRWl2sP"
      },
      "execution_count": null,
      "outputs": []
    },
    {
      "cell_type": "code",
      "source": [
        "print(distancia1,\n",
        "distancia2,\n",
        "distancia3,\n",
        "distancia4,\n",
        "distancia5,\n",
        "distancia6,\n",
        "distancia2 )\n"
      ],
      "metadata": {
        "colab": {
          "base_uri": "https://localhost:8080/"
        },
        "id": "YOQHA3rfpM_j",
        "outputId": "7aa8f93a-34f7-4bb8-8d37-8972cc82bd50"
      },
      "execution_count": null,
      "outputs": [
        {
          "output_type": "stream",
          "name": "stdout",
          "text": [
            "0.5385164807134505 2.1095023109728985 0.8062257748298548 3.920459156782532 3.3286633954186478 1.70293863659264 2.1095023109728985\n"
          ]
        }
      ]
    }
  ]
}