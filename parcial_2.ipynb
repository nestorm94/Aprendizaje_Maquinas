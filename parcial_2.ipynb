{
 "cells": [
  {
   "cell_type": "markdown",
   "metadata": {},
   "source": [
    "<div>\n",
    "<img src=\"https://res-5.cloudinary.com/crunchbase-production/image/upload/c_lpad,h_256,w_256,f_auto,q_auto:eco/v1455514364/pim02bzqvgz0hibsra41.png\" align=\"right\"><br><br><FONT FACE=\"times new roman\" SIZE=5>\n",
    "<b></b>\n",
    "<br>\n",
    "<i><b>Docente:</b></i> Camilo Enrique Rodriguez Torres.\n",
    "<br>\n",
    "<i><b>Asignatura:</b></i> Aprendizaje de Máquinas\n",
    "<br>\n",
    "<i><b>Estudiante:</b></i> Nestor Morales.\n",
    "<br>\n",
    "<i><b>Tema:</b></i> Segundo Parcial.\n",
    "<br>\n",
    "<br>\n",
    "</FONT>\n",
    "</div>"
   ]
  },
  {
   "cell_type": "code",
   "execution_count": 49,
   "metadata": {},
   "outputs": [
    {
     "name": "stdout",
     "output_type": "stream",
     "text": [
      "Requirement already satisfied: scikit-learn in /Users/nestorm/opt/anaconda3/lib/python3.9/site-packages (1.0.2)\n",
      "Requirement already satisfied: numpy>=1.14.6 in /Users/nestorm/opt/anaconda3/lib/python3.9/site-packages (from scikit-learn) (1.21.5)\n",
      "Requirement already satisfied: threadpoolctl>=2.0.0 in /Users/nestorm/opt/anaconda3/lib/python3.9/site-packages (from scikit-learn) (2.2.0)\n",
      "Requirement already satisfied: joblib>=0.11 in /Users/nestorm/opt/anaconda3/lib/python3.9/site-packages (from scikit-learn) (1.1.0)\n",
      "Requirement already satisfied: scipy>=1.1.0 in /Users/nestorm/opt/anaconda3/lib/python3.9/site-packages (from scikit-learn) (1.9.1)\n",
      "Note: you may need to restart the kernel to use updated packages.\n"
     ]
    }
   ],
   "source": [
    "pip install scikit-learn"
   ]
  },
  {
   "cell_type": "code",
   "execution_count": 50,
   "metadata": {},
   "outputs": [],
   "source": [
    "import pandas as pd\n",
    "import numpy as np\n",
    "import matplotlib.pyplot as plt\n",
    "from sklearn.model_selection import cross_val_score\n",
    "from sklearn import tree\n",
    "from sklearn.tree import DecisionTreeClassifier\n",
    "from sklearn.model_selection import cross_validate\n",
    "from sklearn.linear_model import LogisticRegression\n",
    "from sklearn.metrics import accuracy_score\n",
    "from sklearn.model_selection import KFold"
   ]
  },
  {
   "cell_type": "markdown",
   "metadata": {},
   "source": [
    "<div>\n",
    "<b></b>\n",
    "<br>\n",
    "<i><b>Punto 1:</b></i> Usando las 30 primeras muestras del dataset de diabetes,  y las columnas\n",
    "Pregnancies,Glucose de entrada y Outcome de salida\n",
    "<br>\n",
    "<b></b>\n",
    "<br>\n",
    "<i><b>LINK DE DATOS:</b></i> https://raw.githubusercontent.com/plotly/datasets/master/diabetes.csv\n",
    "Realizar validación cruzada con k =3\n",
    "<br>\n",
    "<b></b>\n",
    "<br>\n",
    "<i><b>A:</b></i>Crear un modelo de regresión logística con sklearn\n",
    "Para cada cv dibujar frontera(no se puede utilizar bibliotecas especializadas) datos en train y test\n",
    "determinar accuracy en train y test\n",
    "<br>\n",
    "<b></b>\n",
    "<br>\n",
    "<i><b>B:</b></i>Crear un modelo de árbol de decisión con max_depth=3 con sklearn\n",
    "Para cada cv dibujar frontera(no se puede utilizar bibliotecas especializadas) datos en train y test\n",
    "determinar accuracy en train y test\n",
    "<br>\n",
    "<b></b>\n",
    "<br>\n",
    "<i><b>C:</b></i>Crear un modelo de KNN(escalar los datos antes) con sklearn\n",
    "determinar accuracy en train y test\n",
    "<br>\n",
    "<b></b>\n",
    "<br>\n",
    "<div>"
   ]
  },
  {
   "cell_type": "code",
   "execution_count": 51,
   "metadata": {},
   "outputs": [],
   "source": [
    "df_biabetes = pd.read_csv('https://raw.githubusercontent.com/plotly/datasets/master/diabetes.csv')\n",
    "df_biabetes_30 = df_biabetes.head(30)"
   ]
  },
  {
   "cell_type": "code",
   "execution_count": 52,
   "metadata": {},
   "outputs": [],
   "source": [
    "X = df_biabetes_30[['Pregnancies', 'Glucose']].values\n",
    "Y = df_biabetes_30['Outcome'].values"
   ]
  },
  {
   "cell_type": "code",
   "execution_count": 53,
   "metadata": {},
   "outputs": [
    {
     "data": {
      "text/plain": [
       "{'fit_time': array([0.00849319, 0.00063324, 0.00038671]),\n",
       " 'score_time': array([0.000772  , 0.00025392, 0.00021195]),\n",
       " 'estimator': [DecisionTreeClassifier(),\n",
       "  DecisionTreeClassifier(),\n",
       "  DecisionTreeClassifier()],\n",
       " 'test_score': array([0.7, 0.6, 0.5]),\n",
       " 'train_score': array([1., 1., 1.])}"
      ]
     },
     "execution_count": 53,
     "metadata": {},
     "output_type": "execute_result"
    }
   ],
   "source": [
    "results = cross_validate(DecisionTreeClassifier(),\n",
    "                         X, Y, scoring=\"accuracy\",\n",
    "                         cv= 3, return_estimator=True, return_train_score=True)\n",
    "results"
   ]
  },
  {
   "cell_type": "code",
   "execution_count": 54,
   "metadata": {},
   "outputs": [
    {
     "data": {
      "text/plain": [
       "LogisticRegression()"
      ]
     },
     "execution_count": 54,
     "metadata": {},
     "output_type": "execute_result"
    }
   ],
   "source": [
    "logisticRegr = LogisticRegression()\n",
    "logisticRegr.fit(X, Y)"
   ]
  },
  {
   "cell_type": "code",
   "execution_count": 55,
   "metadata": {},
   "outputs": [
    {
     "data": {
      "image/png": "[encoded data removed]",
      "text/plain": [
       "<Figure size 640x480 with 1 Axes>"
      ]
     },
     "metadata": {},
     "output_type": "display_data"
    }
   ],
   "source": [
    "plt.scatter(X[:, 0], X[:, 1], c=Y)\n",
    "plt.show()"
   ]
  },
  {
   "cell_type": "code",
   "execution_count": 56,
   "metadata": {},
   "outputs": [
    {
     "name": "stdout",
     "output_type": "stream",
     "text": [
      "Fold 1 - Train Accuracy: 0.65, Test Accuracy: 0.90\n",
      "Fold 2 - Train Accuracy: 0.80, Test Accuracy: 0.50\n",
      "Fold 3 - Train Accuracy: 0.65, Test Accuracy: 0.60\n",
      "Promedio Train Accuracy: 0.70\n",
      "Promedio Test Accuracy: 0.67\n",
      "Coeficientes: [array([[-0.03108979,  0.0406608 ]]), array([[-0.02292539,  0.05056949]]), array([[-0.11700025,  0.04443722]])]\n",
      "Intercepto: [array([-4.57294494]), array([-5.98880146]), array([-4.2428066])]\n"
     ]
    }
   ],
   "source": [
    "\n",
    "# Supongamos que tienes X y Y\n",
    "\n",
    "# Definir el número de pliegues (k)\n",
    "k = 3\n",
    "kf = KFold(n_splits=k)\n",
    "\n",
    "# Crear un modelo de regresión logística\n",
    "logisticRegr = LogisticRegression()\n",
    "\n",
    "# Inicializar listas para almacenar las métricas de entrenamiento y prueba de todos los folds\n",
    "train_accs = []\n",
    "test_accs = []\n",
    "coef = []\n",
    "intercept = []\n",
    "\n",
    "for fold, (train_indices, test_indices) in enumerate(kf.split(X)):\n",
    "    X_train, X_test = X[train_indices], X[test_indices]\n",
    "    y_train, y_test = Y[train_indices], Y[test_indices]\n",
    "\n",
    "    logisticRegr.fit(X_train, y_train)\n",
    "\n",
    "    coef.append(logisticRegr.coef_)\n",
    "    intercept.append(logisticRegr.intercept_)\n",
    "\n",
    "    train_predictions = logisticRegr.predict(X_train)\n",
    "    test_predictions = logisticRegr.predict(X_test)\n",
    "\n",
    "    train_acc = accuracy_score(y_train, train_predictions)\n",
    "    test_acc = accuracy_score(y_test, test_predictions)\n",
    "\n",
    "    train_accs.append(train_acc)\n",
    "    test_accs.append(test_acc)\n",
    "\n",
    "    print(f\"Fold {fold + 1} - Train Accuracy: {train_acc:.2f}, Test Accuracy: {test_acc:.2f}\")\n",
    "\n",
    "# Imprimir el promedio de las métricas de todos los folds\n",
    "print(f\"Promedio Train Accuracy: {sum(train_accs) / k:.2f}\")\n",
    "print(f\"Promedio Test Accuracy: {sum(test_accs) / k:.2f}\")\n",
    "print(f\"Coeficientes: {coef}\")\n",
    "print(f\"Intercepto: {intercept}\")\n"
   ]
  },
  {
   "cell_type": "code",
   "execution_count": 57,
   "metadata": {},
   "outputs": [],
   "source": [
    "#w1,w2 primer arreglo de  datos \n",
    "w1_1 = coef[0][0][0]\n",
    "w2_1 = coef[0][0][1]\n",
    "#w1,w2 segundo  arreglo de  datos \n",
    "w1_1 = coef[1][0][0]\n",
    "w2_2 = coef[1][0][1]\n",
    "\n",
    "#w1,w2 tercer  arreglo de  datos \n",
    "w1_3 = coef[2][0][0]\n",
    "w2_3 = coef[2][0][1]\n",
    "\n",
    "#intercepto 1\n",
    "b_1 = intercept[0][0]\n",
    "b_2 = intercept[1][0]\n",
    "b_3 = intercept[2][0]\n",
    "\n"
   ]
  },
  {
   "cell_type": "code",
   "execution_count": 58,
   "metadata": {},
   "outputs": [
    {
     "name": "stdout",
     "output_type": "stream",
     "text": [
      "-0.022925391634170896 -0.022925391634170896 -0.022925391634170896 0.05056949249175513 -0.11700024977429585 0.04443722364664929\n",
      "-4.572944941421326 -5.988801461183304 -4.242806597240042\n"
     ]
    }
   ],
   "source": [
    "print(w1_1,w1_1,w1_1,w2_2,w1_3,w2_3)\n",
    "print(b_1,b_2,b_3)"
   ]
  },
  {
   "cell_type": "code",
   "execution_count": null,
   "metadata": {},
   "outputs": [],
   "source": []
  },
  {
   "cell_type": "code",
   "execution_count": 59,
   "metadata": {},
   "outputs": [],
   "source": [
    "def f_x_values(w1,w2,x1_values,b):\n",
    "    x_values=(-((w1/w2) * x1_values + ((b)/w2)))\n",
    "    return x_values"
   ]
  },
  {
   "cell_type": "code",
   "execution_count": 60,
   "metadata": {},
   "outputs": [
    {
     "name": "stdout",
     "output_type": "stream",
     "text": [
      "[112.46567673 112.52262828 112.57957984 112.63653139 112.69348295\n",
      " 112.75043451 112.80738606 112.86433762 112.92128918 112.97824073\n",
      " 113.03519229 113.09214385 113.1490954  113.20604696 113.26299851\n",
      " 113.31995007 113.37690163 113.43385318 113.49080474 113.5477563\n",
      " 113.60470785 113.66165941 113.71861097 113.77556252 113.83251408\n",
      " 113.88946564 113.94641719 114.00336875 114.0603203  114.11727186\n",
      " 114.17422342 114.23117497 114.28812653 114.34507809 114.40202964\n",
      " 114.4589812  114.51593276 114.57288431 114.62983587 114.68678742\n",
      " 114.74373898 114.80069054 114.85764209 114.91459365 114.97154521\n",
      " 115.02849676 115.08544832 115.14239988 115.19935143 115.25630299\n",
      " 115.31325455 115.3702061  115.42715766 115.48410921 115.54106077\n",
      " 115.59801233 115.65496388 115.71191544 115.768867   115.82581855\n",
      " 115.88277011 115.93972167 115.99667322 116.05362478 116.11057633\n",
      " 116.16752789 116.22447945 116.281431   116.33838256 116.39533412\n",
      " 116.45228567 116.50923723 116.56618879 116.62314034 116.6800919\n",
      " 116.73704346 116.79399501 116.85094657 116.90789812 116.96484968\n",
      " 117.02180124 117.07875279 117.13570435 117.19265591 117.24960746\n",
      " 117.30655902 117.36351058 117.42046213 117.47741369 117.53436524\n",
      " 117.5913168  117.64826836 117.70521991 117.76217147 117.81912303\n",
      " 117.87607458 117.93302614 117.9899777  118.04692925 118.10388081]\n"
     ]
    },
    {
     "data": {
      "image/png": "[encoded data removed]",
      "text/plain": [
       "<Figure size 640x480 with 1 Axes>"
      ]
     },
     "metadata": {},
     "output_type": "display_data"
    }
   ],
   "source": [
    "\n",
    "\n",
    "# Crear una gráfica para mostrar los datos de muestra y la línea\n",
    "plt.scatter(X[:, 0], X[:, 1], c=Y)\n",
    "x1_values = np.linspace(0, 10, 100)  # Valores de x1 para la línea\n",
    "x2_values = -((w1_1/w2_1) * x1_values + ((b_1)/w2_1)) # Calcular x2 utilizando la ecuación de la línea\n",
    "#x2_values =  f_x_values(w1_1,w2_2,x1_values,b_1) # Calcular x2 utilizando la ecuación de la línea\n",
    "\n",
    "print(x2_values)\n",
    "plt.plot(x1_values, x2_values, 'r-', label=\"Línea encontrada por el modelo\")\n",
    "plt.xlabel(\"X1\")\n",
    "plt.ylabel(\"X2\")\n",
    "plt.legend()\n",
    "plt.grid()\n",
    "\n",
    "# Mostrar la gráfica\n",
    "plt.show()"
   ]
  },
  {
   "cell_type": "code",
   "execution_count": 61,
   "metadata": {},
   "outputs": [
    {
     "data": {
      "text/plain": [
       "(0.0, 6.0)"
      ]
     },
     "execution_count": 61,
     "metadata": {},
     "output_type": "execute_result"
    },
    {
     "data": {
      "image/png": "[encoded data removed]",
      "text/plain": [
       "<Figure size 640x480 with 1 Axes>"
      ]
     },
     "metadata": {},
     "output_type": "display_data"
    }
   ],
   "source": [
    "df = pd.DataFrame({\"x1\":[1, 2, 2.5, 4, 4.3], \"x2\":[2.3, 3.7, 4.0, 4.2, 5], \"y\":[0, 1, 1, 0, 1]})\n",
    "plt.scatter(df[\"x1\"],df[\"x2\"],c=df[\"y\"])\n",
    "plt.axhline(4.1, xmin=0.25, color=\"r\")\n",
    "# plt.axhline(4.1, ymin=0.75, color=\"r\")\n",
    "plt.axvline(1.5, ymin=0.68, color=\"b\")\n",
    "plt.axvline(3.25, ymin=0.68,color=\"g\")\n",
    "plt.xlim(0, 6)\n",
    "plt.ylim(0, 6)"
   ]
  },
  {
   "cell_type": "markdown",
   "metadata": {},
   "source": [
    "<div>\n",
    "<b></b>\n",
    "<br>\n",
    "<i><b>Punto 2:</b></i>  Usando el dataset de california housing, las 30 primeras muestras del dataset de housing,  y las columnas:\n",
    "housing_median_age y median_incom entrada y house_median_value de salida\n",
    "<br>\n",
    "<b></b>\n",
    "<br>\n",
    "<i><b>LINK DE DATOS:</b></i>https://raw.githubusercontent.com/sonarsushant/California-House-Price-Prediction/master/housing.csv\n",
    "<br>\n",
    "<b></b>\n",
    "<br>\n",
    "<i><b>A:</b></i>Crear un modelo de regresión lineal con sklearn\n",
    "Para cada cv dibujar X vs y(no se puede utilizar bibliotecas especializadas) datos en train y test\n",
    "determinar rmse en train y test\n",
    "<br>\n",
    "<b></b>\n",
    "<br>\n",
    "<i><b>B:</b></i>Crear un modelo de árbol de decisión con sklearn max_depth=3\n",
    "Para cada cv dibujar X vs y(no se puede utilizar bibliotecas especializadas) datos en train y test\n",
    "determinar rmse en train y test\n",
    "<br>\n",
    "<b></b>\n",
    "<br>\n",
    "<i><b>C:</b></i>Crear un modelo de KNN con sklearn(escalar los datos antes)\n",
    "<br>\n",
    "determinar rmse en train y test\n",
    "\n",
    "\n",
    "Analizar los resultados.\n",
    "\n",
    "\n"
   ]
  }
 ],
 "metadata": {
  "kernelspec": {
   "display_name": "base",
   "language": "python",
   "name": "python3"
  },
  "language_info": {
   "codemirror_mode": {
    "name": "ipython",
    "version": 3
   },
   "file_extension": ".py",
   "mimetype": "text/x-python",
   "name": "python",
   "nbconvert_exporter": "python",
   "pygments_lexer": "ipython3",
   "version": "3.9.13"
  },
  "orig_nbformat": 4
 },
 "nbformat": 4,
 "nbformat_minor": 2
}
