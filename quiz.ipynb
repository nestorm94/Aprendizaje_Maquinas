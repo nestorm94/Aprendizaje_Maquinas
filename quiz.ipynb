{
 "cells": [
  {
   "cell_type": "code",
   "execution_count": 10,
   "metadata": {},
   "outputs": [],
   "source": [
    "def f(x1, x2, theta1, theta0):\n",
    "    return theta1 * x1 + theta0 - x2\n",
    "    \n",
    "    \n"
   ]
  },
  {
   "cell_type": "code",
   "execution_count": 14,
   "metadata": {},
   "outputs": [],
   "source": [
    "import numpy as np\n",
    "import matplotlib.pyplot as plt\n",
    "from numpy import inf\n",
    "from sklearn.linear_model import LogisticRegression"
   ]
  },
  {
   "cell_type": "code",
   "execution_count": 11,
   "metadata": {},
   "outputs": [],
   "source": [
    "def sigmoid(z):\n",
    "    return 1 / (1 + np.exp(-z))\n"
   ]
  },
  {
   "cell_type": "code",
   "execution_count": 8,
   "metadata": {},
   "outputs": [],
   "source": [
    "# Valores de theta1 y theta0 para definir la línea\n",
    "theta1 = 0.7\n",
    "theta0 = 1.0\n",
    "\n",
    "\n",
    " # Este valor es mayor que el valor calculado por la línea\n",
    "x1_above = 4.8\n",
    "x2_above = 2.7 \n",
    "\n",
    "\n",
    "# Este valor es igual al valor calculado por la línea\n",
    "x1_on = 1.0\n",
    "x2_on = 1.7  \n",
    "\n",
    "\n"
   ]
  },
  {
   "cell_type": "code",
   "execution_count": 16,
   "metadata": {},
   "outputs": [
    {
     "name": "stdout",
     "output_type": "stream",
     "text": [
      "porcentaje 1 : 0.8402380030563308\n",
      "porcentaje 2: 0.5\n"
     ]
    }
   ],
   "source": [
    "# Calcular f(x1, x2) en cada punto utilizando la función definida\n",
    "f_above = sigmoid(f(x1_above, x2_above, theta1, theta0))\n",
    "f_on = sigmoid(f(x1_on, x2_on, theta1, theta0))\n",
    "\n",
    "# Imprimir los valores de f(x1, x2)\n",
    "print(\"porcentaje 1 :\", f_above)\n",
    "print(\"porcentaje 2:\", f_on)"
   ]
  }
 ],
 "metadata": {
  "kernelspec": {
   "display_name": "base",
   "language": "python",
   "name": "python3"
  },
  "language_info": {
   "codemirror_mode": {
    "name": "ipython",
    "version": 3
   },
   "file_extension": ".py",
   "mimetype": "text/x-python",
   "name": "python",
   "nbconvert_exporter": "python",
   "pygments_lexer": "ipython3",
   "version": "3.9.13"
  },
  "orig_nbformat": 4
 },
 "nbformat": 4,
 "nbformat_minor": 2
}
